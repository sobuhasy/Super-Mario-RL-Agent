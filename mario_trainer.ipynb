{
 "cells": [
  {
   "cell_type": "markdown",
   "metadata": {},
   "source": [
    "# AI-Training to play Mario"
   ]
  },
  {
   "cell_type": "code",
   "execution_count": 14,
   "metadata": {},
   "outputs": [
    {
     "name": "stdout",
     "output_type": "stream",
     "text": [
      "Requirement already satisfied: gym-super-mario-bros==7.4.0 in c:\\users\\sobuh\\anaconda3\\lib\\site-packages (7.4.0)\n",
      "Requirement already satisfied: nes-py>=8.1.4 in c:\\users\\sobuh\\anaconda3\\lib\\site-packages (from gym-super-mario-bros==7.4.0) (8.2.1)\n",
      "Requirement already satisfied: gym>=0.17.2 in c:\\users\\sobuh\\anaconda3\\lib\\site-packages (from nes-py>=8.1.4->gym-super-mario-bros==7.4.0) (0.26.2)\n",
      "Requirement already satisfied: numpy>=1.18.5 in c:\\users\\sobuh\\anaconda3\\lib\\site-packages (from nes-py>=8.1.4->gym-super-mario-bros==7.4.0) (1.26.3)\n",
      "Requirement already satisfied: pyglet<=1.5.21,>=1.4.0 in c:\\users\\sobuh\\anaconda3\\lib\\site-packages (from nes-py>=8.1.4->gym-super-mario-bros==7.4.0) (1.5.21)\n",
      "Requirement already satisfied: tqdm>=4.48.2 in c:\\users\\sobuh\\anaconda3\\lib\\site-packages (from nes-py>=8.1.4->gym-super-mario-bros==7.4.0) (4.65.0)\n",
      "Requirement already satisfied: cloudpickle>=1.2.0 in c:\\users\\sobuh\\anaconda3\\lib\\site-packages (from gym>=0.17.2->nes-py>=8.1.4->gym-super-mario-bros==7.4.0) (3.0.0)\n",
      "Requirement already satisfied: gym-notices>=0.0.4 in c:\\users\\sobuh\\anaconda3\\lib\\site-packages (from gym>=0.17.2->nes-py>=8.1.4->gym-super-mario-bros==7.4.0) (0.0.8)\n",
      "Requirement already satisfied: colorama in c:\\users\\sobuh\\appdata\\roaming\\python\\python311\\site-packages (from tqdm>=4.48.2->nes-py>=8.1.4->gym-super-mario-bros==7.4.0) (0.4.6)\n",
      "Note: you may need to restart the kernel to use updated packages.\n",
      "Requirement already satisfied: tensordict==0.2.0 in c:\\users\\sobuh\\anaconda3\\lib\\site-packages (0.2.0)\n",
      "Requirement already satisfied: torch in c:\\users\\sobuh\\anaconda3\\lib\\site-packages (from tensordict==0.2.0) (2.0.1)\n",
      "Requirement already satisfied: numpy in c:\\users\\sobuh\\anaconda3\\lib\\site-packages (from tensordict==0.2.0) (1.26.3)\n",
      "Requirement already satisfied: cloudpickle in c:\\users\\sobuh\\anaconda3\\lib\\site-packages (from tensordict==0.2.0) (3.0.0)\n",
      "Requirement already satisfied: filelock in c:\\users\\sobuh\\anaconda3\\lib\\site-packages (from torch->tensordict==0.2.0) (3.13.1)\n",
      "Requirement already satisfied: typing-extensions in c:\\users\\sobuh\\anaconda3\\lib\\site-packages (from torch->tensordict==0.2.0) (4.9.0)\n",
      "Requirement already satisfied: sympy in c:\\users\\sobuh\\anaconda3\\lib\\site-packages (from torch->tensordict==0.2.0) (1.12)\n",
      "Requirement already satisfied: networkx in c:\\users\\sobuh\\anaconda3\\lib\\site-packages (from torch->tensordict==0.2.0) (3.2.1)\n",
      "Requirement already satisfied: jinja2 in c:\\users\\sobuh\\anaconda3\\lib\\site-packages (from torch->tensordict==0.2.0) (3.1.3)\n",
      "Requirement already satisfied: MarkupSafe>=2.0 in c:\\users\\sobuh\\anaconda3\\lib\\site-packages (from jinja2->torch->tensordict==0.2.0) (2.1.4)\n",
      "Requirement already satisfied: mpmath>=0.19 in c:\\users\\sobuh\\anaconda3\\lib\\site-packages (from sympy->torch->tensordict==0.2.0) (1.3.0)\n",
      "Note: you may need to restart the kernel to use updated packages.\n",
      "Requirement already satisfied: torchrl==0.2.0 in c:\\users\\sobuh\\anaconda3\\lib\\site-packages (0.2.0)\n",
      "Requirement already satisfied: torch in c:\\users\\sobuh\\anaconda3\\lib\\site-packages (from torchrl==0.2.0) (2.0.1)\n",
      "Requirement already satisfied: numpy in c:\\users\\sobuh\\anaconda3\\lib\\site-packages (from torchrl==0.2.0) (1.26.3)\n",
      "Requirement already satisfied: packaging in c:\\users\\sobuh\\anaconda3\\lib\\site-packages (from torchrl==0.2.0) (23.2)\n",
      "Requirement already satisfied: cloudpickle in c:\\users\\sobuh\\anaconda3\\lib\\site-packages (from torchrl==0.2.0) (3.0.0)\n",
      "Requirement already satisfied: tensordict>=0.2.0 in c:\\users\\sobuh\\anaconda3\\lib\\site-packages (from torchrl==0.2.0) (0.2.0)\n",
      "Requirement already satisfied: filelock in c:\\users\\sobuh\\anaconda3\\lib\\site-packages (from torch->torchrl==0.2.0) (3.13.1)\n",
      "Requirement already satisfied: typing-extensions in c:\\users\\sobuh\\anaconda3\\lib\\site-packages (from torch->torchrl==0.2.0) (4.9.0)\n",
      "Requirement already satisfied: sympy in c:\\users\\sobuh\\anaconda3\\lib\\site-packages (from torch->torchrl==0.2.0) (1.12)\n",
      "Requirement already satisfied: networkx in c:\\users\\sobuh\\anaconda3\\lib\\site-packages (from torch->torchrl==0.2.0) (3.2.1)\n",
      "Requirement already satisfied: jinja2 in c:\\users\\sobuh\\anaconda3\\lib\\site-packages (from torch->torchrl==0.2.0) (3.1.3)\n",
      "Requirement already satisfied: MarkupSafe>=2.0 in c:\\users\\sobuh\\anaconda3\\lib\\site-packages (from jinja2->torch->torchrl==0.2.0) (2.1.4)\n",
      "Requirement already satisfied: mpmath>=0.19 in c:\\users\\sobuh\\anaconda3\\lib\\site-packages (from sympy->torch->torchrl==0.2.0) (1.3.0)\n",
      "Note: you may need to restart the kernel to use updated packages.\n"
     ]
    }
   ],
   "source": [
    "%pip install gym-super-mario-bros==7.4.0\n",
    "%pip install tensordict==0.2.0\n",
    "%pip install torchrl==0.2.0\n"
   ]
  },
  {
   "cell_type": "code",
   "execution_count": 15,
   "metadata": {},
   "outputs": [
    {
     "ename": "ImportError",
     "evalue": "DLL load failed while importing _torchrl: Die angegebene Prozedur wurde nicht gefunden.",
     "output_type": "error",
     "traceback": [
      "\u001b[1;31m---------------------------------------------------------------------------\u001b[0m",
      "\u001b[1;31mImportError\u001b[0m                               Traceback (most recent call last)",
      "Cell \u001b[1;32mIn[15], line 22\u001b[0m\n\u001b[0;32m     19\u001b[0m \u001b[38;5;28;01mimport\u001b[39;00m \u001b[38;5;21;01mgym_super_mario_bros\u001b[39;00m\n\u001b[0;32m     21\u001b[0m \u001b[38;5;28;01mfrom\u001b[39;00m \u001b[38;5;21;01mtensordict\u001b[39;00m \u001b[38;5;28;01mimport\u001b[39;00m TensorDict\n\u001b[1;32m---> 22\u001b[0m \u001b[38;5;28;01mfrom\u001b[39;00m \u001b[38;5;21;01mtorchrl\u001b[39;00m\u001b[38;5;21;01m.\u001b[39;00m\u001b[38;5;21;01mdata\u001b[39;00m \u001b[38;5;28;01mimport\u001b[39;00m TensorDictReplayBuffer, LazyMemmapStorage\n",
      "File \u001b[1;32mc:\\Users\\sobuh\\anaconda3\\Lib\\site-packages\\torchrl\\__init__.py:38\u001b[0m\n\u001b[0;32m     31\u001b[0m         \u001b[38;5;28;01mif\u001b[39;00m mp_start_method \u001b[38;5;241m!=\u001b[39m \u001b[38;5;124m\"\u001b[39m\u001b[38;5;124mspawn\u001b[39m\u001b[38;5;124m\"\u001b[39m:\n\u001b[0;32m     32\u001b[0m             warn(\n\u001b[0;32m     33\u001b[0m                 \u001b[38;5;124mf\u001b[39m\u001b[38;5;124m\"\u001b[39m\u001b[38;5;124mfailed to set start method to spawn, \u001b[39m\u001b[38;5;124m\"\u001b[39m\n\u001b[0;32m     34\u001b[0m                 \u001b[38;5;124mf\u001b[39m\u001b[38;5;124m\"\u001b[39m\u001b[38;5;124mand current start method for mp is \u001b[39m\u001b[38;5;132;01m{\u001b[39;00mmp_start_method\u001b[38;5;132;01m}\u001b[39;00m\u001b[38;5;124m.\u001b[39m\u001b[38;5;124m\"\u001b[39m\n\u001b[0;32m     35\u001b[0m             )\n\u001b[1;32m---> 38\u001b[0m \u001b[38;5;28;01mimport\u001b[39;00m \u001b[38;5;21;01mtorchrl\u001b[39;00m\u001b[38;5;21;01m.\u001b[39;00m\u001b[38;5;21;01mcollectors\u001b[39;00m\n\u001b[0;32m     39\u001b[0m \u001b[38;5;28;01mimport\u001b[39;00m \u001b[38;5;21;01mtorchrl\u001b[39;00m\u001b[38;5;21;01m.\u001b[39;00m\u001b[38;5;21;01mdata\u001b[39;00m\n\u001b[0;32m     40\u001b[0m \u001b[38;5;28;01mimport\u001b[39;00m \u001b[38;5;21;01mtorchrl\u001b[39;00m\u001b[38;5;21;01m.\u001b[39;00m\u001b[38;5;21;01menvs\u001b[39;00m\n",
      "File \u001b[1;32mc:\\Users\\sobuh\\anaconda3\\Lib\\site-packages\\torchrl\\collectors\\__init__.py:6\u001b[0m\n\u001b[0;32m      1\u001b[0m \u001b[38;5;66;03m# Copyright (c) Meta Platforms, Inc. and affiliates.\u001b[39;00m\n\u001b[0;32m      2\u001b[0m \u001b[38;5;66;03m#\u001b[39;00m\n\u001b[0;32m      3\u001b[0m \u001b[38;5;66;03m# This source code is licensed under the MIT license found in the\u001b[39;00m\n\u001b[0;32m      4\u001b[0m \u001b[38;5;66;03m# LICENSE file in the root directory of this source tree.\u001b[39;00m\n\u001b[1;32m----> 6\u001b[0m \u001b[38;5;28;01mfrom\u001b[39;00m \u001b[38;5;21;01m.\u001b[39;00m\u001b[38;5;21;01mcollectors\u001b[39;00m \u001b[38;5;28;01mimport\u001b[39;00m (\n\u001b[0;32m      7\u001b[0m     aSyncDataCollector,\n\u001b[0;32m      8\u001b[0m     DataCollectorBase,\n\u001b[0;32m      9\u001b[0m     MultiaSyncDataCollector,\n\u001b[0;32m     10\u001b[0m     MultiSyncDataCollector,\n\u001b[0;32m     11\u001b[0m     RandomPolicy,\n\u001b[0;32m     12\u001b[0m     SyncDataCollector,\n\u001b[0;32m     13\u001b[0m )\n",
      "File \u001b[1;32mc:\\Users\\sobuh\\anaconda3\\Lib\\site-packages\\torchrl\\collectors\\collectors.py:42\u001b[0m\n\u001b[0;32m     33\u001b[0m \u001b[38;5;28;01mfrom\u001b[39;00m \u001b[38;5;21;01mtorchrl\u001b[39;00m\u001b[38;5;21;01m.\u001b[39;00m\u001b[38;5;21;01m_utils\u001b[39;00m \u001b[38;5;28;01mimport\u001b[39;00m (\n\u001b[0;32m     34\u001b[0m     _check_for_faulty_process,\n\u001b[0;32m     35\u001b[0m     _ProcessNoWarn,\n\u001b[1;32m   (...)\u001b[0m\n\u001b[0;32m     39\u001b[0m     VERBOSE,\n\u001b[0;32m     40\u001b[0m )\n\u001b[0;32m     41\u001b[0m \u001b[38;5;28;01mfrom\u001b[39;00m \u001b[38;5;21;01mtorchrl\u001b[39;00m\u001b[38;5;21;01m.\u001b[39;00m\u001b[38;5;21;01mcollectors\u001b[39;00m\u001b[38;5;21;01m.\u001b[39;00m\u001b[38;5;21;01mutils\u001b[39;00m \u001b[38;5;28;01mimport\u001b[39;00m split_trajectories\n\u001b[1;32m---> 42\u001b[0m \u001b[38;5;28;01mfrom\u001b[39;00m \u001b[38;5;21;01mtorchrl\u001b[39;00m\u001b[38;5;21;01m.\u001b[39;00m\u001b[38;5;21;01mdata\u001b[39;00m\u001b[38;5;21;01m.\u001b[39;00m\u001b[38;5;21;01mtensor_specs\u001b[39;00m \u001b[38;5;28;01mimport\u001b[39;00m CompositeSpec, TensorSpec\n\u001b[0;32m     43\u001b[0m \u001b[38;5;28;01mfrom\u001b[39;00m \u001b[38;5;21;01mtorchrl\u001b[39;00m\u001b[38;5;21;01m.\u001b[39;00m\u001b[38;5;21;01mdata\u001b[39;00m\u001b[38;5;21;01m.\u001b[39;00m\u001b[38;5;21;01mutils\u001b[39;00m \u001b[38;5;28;01mimport\u001b[39;00m CloudpickleWrapper, DEVICE_TYPING\n\u001b[0;32m     44\u001b[0m \u001b[38;5;28;01mfrom\u001b[39;00m \u001b[38;5;21;01mtorchrl\u001b[39;00m\u001b[38;5;21;01m.\u001b[39;00m\u001b[38;5;21;01menvs\u001b[39;00m\u001b[38;5;21;01m.\u001b[39;00m\u001b[38;5;21;01mcommon\u001b[39;00m \u001b[38;5;28;01mimport\u001b[39;00m EnvBase\n",
      "File \u001b[1;32mc:\\Users\\sobuh\\anaconda3\\Lib\\site-packages\\torchrl\\data\\__init__.py:6\u001b[0m\n\u001b[0;32m      1\u001b[0m \u001b[38;5;66;03m# Copyright (c) Meta Platforms, Inc. and affiliates.\u001b[39;00m\n\u001b[0;32m      2\u001b[0m \u001b[38;5;66;03m#\u001b[39;00m\n\u001b[0;32m      3\u001b[0m \u001b[38;5;66;03m# This source code is licensed under the MIT license found in the\u001b[39;00m\n\u001b[0;32m      4\u001b[0m \u001b[38;5;66;03m# LICENSE file in the root directory of this source tree.\u001b[39;00m\n\u001b[1;32m----> 6\u001b[0m \u001b[38;5;28;01mfrom\u001b[39;00m \u001b[38;5;21;01m.\u001b[39;00m \u001b[38;5;28;01mimport\u001b[39;00m datasets\n\u001b[0;32m      7\u001b[0m \u001b[38;5;28;01mfrom\u001b[39;00m \u001b[38;5;21;01m.\u001b[39;00m\u001b[38;5;21;01mpostprocs\u001b[39;00m \u001b[38;5;28;01mimport\u001b[39;00m MultiStep\n\u001b[0;32m      8\u001b[0m \u001b[38;5;28;01mfrom\u001b[39;00m \u001b[38;5;21;01m.\u001b[39;00m\u001b[38;5;21;01mreplay_buffers\u001b[39;00m \u001b[38;5;28;01mimport\u001b[39;00m (\n\u001b[0;32m      9\u001b[0m     LazyMemmapStorage,\n\u001b[0;32m     10\u001b[0m     LazyTensorStorage,\n\u001b[1;32m   (...)\u001b[0m\n\u001b[0;32m     21\u001b[0m     Writer,\n\u001b[0;32m     22\u001b[0m )\n",
      "File \u001b[1;32mc:\\Users\\sobuh\\anaconda3\\Lib\\site-packages\\torchrl\\data\\datasets\\__init__.py:1\u001b[0m\n\u001b[1;32m----> 1\u001b[0m \u001b[38;5;28;01mfrom\u001b[39;00m \u001b[38;5;21;01m.\u001b[39;00m\u001b[38;5;21;01md4rl\u001b[39;00m \u001b[38;5;28;01mimport\u001b[39;00m D4RLExperienceReplay\n\u001b[0;32m      2\u001b[0m \u001b[38;5;28;01mfrom\u001b[39;00m \u001b[38;5;21;01m.\u001b[39;00m\u001b[38;5;21;01mopenml\u001b[39;00m \u001b[38;5;28;01mimport\u001b[39;00m OpenMLExperienceReplay\n",
      "File \u001b[1;32mc:\\Users\\sobuh\\anaconda3\\Lib\\site-packages\\torchrl\\data\\datasets\\d4rl.py:21\u001b[0m\n\u001b[0;32m     19\u001b[0m \u001b[38;5;28;01mfrom\u001b[39;00m \u001b[38;5;21;01mtorchrl\u001b[39;00m\u001b[38;5;21;01m.\u001b[39;00m\u001b[38;5;21;01mcollectors\u001b[39;00m\u001b[38;5;21;01m.\u001b[39;00m\u001b[38;5;21;01mutils\u001b[39;00m \u001b[38;5;28;01mimport\u001b[39;00m split_trajectories\n\u001b[0;32m     20\u001b[0m \u001b[38;5;28;01mfrom\u001b[39;00m \u001b[38;5;21;01mtorchrl\u001b[39;00m\u001b[38;5;21;01m.\u001b[39;00m\u001b[38;5;21;01mdata\u001b[39;00m\u001b[38;5;21;01m.\u001b[39;00m\u001b[38;5;21;01mdatasets\u001b[39;00m\u001b[38;5;21;01m.\u001b[39;00m\u001b[38;5;21;01md4rl_infos\u001b[39;00m \u001b[38;5;28;01mimport\u001b[39;00m D4RL_DATASETS\n\u001b[1;32m---> 21\u001b[0m \u001b[38;5;28;01mfrom\u001b[39;00m \u001b[38;5;21;01mtorchrl\u001b[39;00m\u001b[38;5;21;01m.\u001b[39;00m\u001b[38;5;21;01mdata\u001b[39;00m\u001b[38;5;21;01m.\u001b[39;00m\u001b[38;5;21;01mreplay_buffers\u001b[39;00m \u001b[38;5;28;01mimport\u001b[39;00m TensorDictReplayBuffer\n\u001b[0;32m     22\u001b[0m \u001b[38;5;28;01mfrom\u001b[39;00m \u001b[38;5;21;01mtorchrl\u001b[39;00m\u001b[38;5;21;01m.\u001b[39;00m\u001b[38;5;21;01mdata\u001b[39;00m\u001b[38;5;21;01m.\u001b[39;00m\u001b[38;5;21;01mreplay_buffers\u001b[39;00m\u001b[38;5;21;01m.\u001b[39;00m\u001b[38;5;21;01msamplers\u001b[39;00m \u001b[38;5;28;01mimport\u001b[39;00m Sampler\n\u001b[0;32m     23\u001b[0m \u001b[38;5;28;01mfrom\u001b[39;00m \u001b[38;5;21;01mtorchrl\u001b[39;00m\u001b[38;5;21;01m.\u001b[39;00m\u001b[38;5;21;01mdata\u001b[39;00m\u001b[38;5;21;01m.\u001b[39;00m\u001b[38;5;21;01mreplay_buffers\u001b[39;00m\u001b[38;5;21;01m.\u001b[39;00m\u001b[38;5;21;01mstorages\u001b[39;00m \u001b[38;5;28;01mimport\u001b[39;00m LazyMemmapStorage\n",
      "File \u001b[1;32mc:\\Users\\sobuh\\anaconda3\\Lib\\site-packages\\torchrl\\data\\replay_buffers\\__init__.py:6\u001b[0m\n\u001b[0;32m      1\u001b[0m \u001b[38;5;66;03m# Copyright (c) Meta Platforms, Inc. and affiliates.\u001b[39;00m\n\u001b[0;32m      2\u001b[0m \u001b[38;5;66;03m#\u001b[39;00m\n\u001b[0;32m      3\u001b[0m \u001b[38;5;66;03m# This source code is licensed under the MIT license found in the\u001b[39;00m\n\u001b[0;32m      4\u001b[0m \u001b[38;5;66;03m# LICENSE file in the root directory of this source tree.\u001b[39;00m\n\u001b[1;32m----> 6\u001b[0m \u001b[38;5;28;01mfrom\u001b[39;00m \u001b[38;5;21;01m.\u001b[39;00m\u001b[38;5;21;01mreplay_buffers\u001b[39;00m \u001b[38;5;28;01mimport\u001b[39;00m (\n\u001b[0;32m      7\u001b[0m     PrioritizedReplayBuffer,\n\u001b[0;32m      8\u001b[0m     RemoteTensorDictReplayBuffer,\n\u001b[0;32m      9\u001b[0m     ReplayBuffer,\n\u001b[0;32m     10\u001b[0m     TensorDictPrioritizedReplayBuffer,\n\u001b[0;32m     11\u001b[0m     TensorDictReplayBuffer,\n\u001b[0;32m     12\u001b[0m )\n\u001b[0;32m     13\u001b[0m \u001b[38;5;28;01mfrom\u001b[39;00m \u001b[38;5;21;01m.\u001b[39;00m\u001b[38;5;21;01msamplers\u001b[39;00m \u001b[38;5;28;01mimport\u001b[39;00m (\n\u001b[0;32m     14\u001b[0m     PrioritizedSampler,\n\u001b[0;32m     15\u001b[0m     RandomSampler,\n\u001b[0;32m     16\u001b[0m     Sampler,\n\u001b[0;32m     17\u001b[0m     SamplerWithoutReplacement,\n\u001b[0;32m     18\u001b[0m )\n\u001b[0;32m     19\u001b[0m \u001b[38;5;28;01mfrom\u001b[39;00m \u001b[38;5;21;01m.\u001b[39;00m\u001b[38;5;21;01mstorages\u001b[39;00m \u001b[38;5;28;01mimport\u001b[39;00m (\n\u001b[0;32m     20\u001b[0m     LazyMemmapStorage,\n\u001b[0;32m     21\u001b[0m     LazyTensorStorage,\n\u001b[1;32m   (...)\u001b[0m\n\u001b[0;32m     24\u001b[0m     TensorStorage,\n\u001b[0;32m     25\u001b[0m )\n",
      "File \u001b[1;32mc:\\Users\\sobuh\\anaconda3\\Lib\\site-packages\\torchrl\\data\\replay_buffers\\replay_buffers.py:25\u001b[0m\n\u001b[0;32m     21\u001b[0m \u001b[38;5;28;01mfrom\u001b[39;00m \u001b[38;5;21;01mtensordict\u001b[39;00m\u001b[38;5;21;01m.\u001b[39;00m\u001b[38;5;21;01mutils\u001b[39;00m \u001b[38;5;28;01mimport\u001b[39;00m expand_as_right\n\u001b[0;32m     23\u001b[0m \u001b[38;5;28;01mfrom\u001b[39;00m \u001b[38;5;21;01mtorchrl\u001b[39;00m\u001b[38;5;21;01m.\u001b[39;00m\u001b[38;5;21;01m_utils\u001b[39;00m \u001b[38;5;28;01mimport\u001b[39;00m accept_remote_rref_udf_invocation\n\u001b[1;32m---> 25\u001b[0m \u001b[38;5;28;01mfrom\u001b[39;00m \u001b[38;5;21;01mtorchrl\u001b[39;00m\u001b[38;5;21;01m.\u001b[39;00m\u001b[38;5;21;01mdata\u001b[39;00m\u001b[38;5;21;01m.\u001b[39;00m\u001b[38;5;21;01mreplay_buffers\u001b[39;00m\u001b[38;5;21;01m.\u001b[39;00m\u001b[38;5;21;01msamplers\u001b[39;00m \u001b[38;5;28;01mimport\u001b[39;00m (\n\u001b[0;32m     26\u001b[0m     PrioritizedSampler,\n\u001b[0;32m     27\u001b[0m     RandomSampler,\n\u001b[0;32m     28\u001b[0m     Sampler,\n\u001b[0;32m     29\u001b[0m )\n\u001b[0;32m     30\u001b[0m \u001b[38;5;28;01mfrom\u001b[39;00m \u001b[38;5;21;01mtorchrl\u001b[39;00m\u001b[38;5;21;01m.\u001b[39;00m\u001b[38;5;21;01mdata\u001b[39;00m\u001b[38;5;21;01m.\u001b[39;00m\u001b[38;5;21;01mreplay_buffers\u001b[39;00m\u001b[38;5;21;01m.\u001b[39;00m\u001b[38;5;21;01mstorages\u001b[39;00m \u001b[38;5;28;01mimport\u001b[39;00m (\n\u001b[0;32m     31\u001b[0m     _get_default_collate,\n\u001b[0;32m     32\u001b[0m     ListStorage,\n\u001b[0;32m     33\u001b[0m     Storage,\n\u001b[0;32m     34\u001b[0m )\n\u001b[0;32m     35\u001b[0m \u001b[38;5;28;01mfrom\u001b[39;00m \u001b[38;5;21;01mtorchrl\u001b[39;00m\u001b[38;5;21;01m.\u001b[39;00m\u001b[38;5;21;01mdata\u001b[39;00m\u001b[38;5;21;01m.\u001b[39;00m\u001b[38;5;21;01mreplay_buffers\u001b[39;00m\u001b[38;5;21;01m.\u001b[39;00m\u001b[38;5;21;01mutils\u001b[39;00m \u001b[38;5;28;01mimport\u001b[39;00m (\n\u001b[0;32m     36\u001b[0m     _to_numpy,\n\u001b[0;32m     37\u001b[0m     _to_torch,\n\u001b[0;32m     38\u001b[0m     INT_CLASSES,\n\u001b[0;32m     39\u001b[0m     pin_memory_output,\n\u001b[0;32m     40\u001b[0m )\n",
      "File \u001b[1;32mc:\\Users\\sobuh\\anaconda3\\Lib\\site-packages\\torchrl\\data\\replay_buffers\\samplers.py:13\u001b[0m\n\u001b[0;32m     10\u001b[0m \u001b[38;5;28;01mimport\u001b[39;00m \u001b[38;5;21;01mnumpy\u001b[39;00m \u001b[38;5;28;01mas\u001b[39;00m \u001b[38;5;21;01mnp\u001b[39;00m\n\u001b[0;32m     11\u001b[0m \u001b[38;5;28;01mimport\u001b[39;00m \u001b[38;5;21;01mtorch\u001b[39;00m\n\u001b[1;32m---> 13\u001b[0m \u001b[38;5;28;01mfrom\u001b[39;00m \u001b[38;5;21;01mtorchrl\u001b[39;00m\u001b[38;5;21;01m.\u001b[39;00m\u001b[38;5;21;01m_torchrl\u001b[39;00m \u001b[38;5;28;01mimport\u001b[39;00m (\n\u001b[0;32m     14\u001b[0m     MinSegmentTreeFp32,\n\u001b[0;32m     15\u001b[0m     MinSegmentTreeFp64,\n\u001b[0;32m     16\u001b[0m     SumSegmentTreeFp32,\n\u001b[0;32m     17\u001b[0m     SumSegmentTreeFp64,\n\u001b[0;32m     18\u001b[0m )\n\u001b[0;32m     20\u001b[0m \u001b[38;5;28;01mfrom\u001b[39;00m \u001b[38;5;21;01m.\u001b[39;00m\u001b[38;5;21;01mstorages\u001b[39;00m \u001b[38;5;28;01mimport\u001b[39;00m Storage\n\u001b[0;32m     21\u001b[0m \u001b[38;5;28;01mfrom\u001b[39;00m \u001b[38;5;21;01m.\u001b[39;00m\u001b[38;5;21;01mutils\u001b[39;00m \u001b[38;5;28;01mimport\u001b[39;00m _to_numpy, INT_CLASSES\n",
      "\u001b[1;31mImportError\u001b[0m: DLL load failed while importing _torchrl: Die angegebene Prozedur wurde nicht gefunden."
     ]
    }
   ],
   "source": [
    "import torch\n",
    "from torch import nn\n",
    "from torchvision import transforms as T\n",
    "from PIL import Image\n",
    "import numpy as np\n",
    "from pathlib import Path\n",
    "from collections import deque\n",
    "import random, datetime, os\n",
    "\n",
    "# Gym is an OpenAI toolkit for RL\n",
    "import gym\n",
    "from gym.spaces import Box\n",
    "from gym.wrappers import FrameStack\n",
    "\n",
    "# NES Emulator for OpenAI Gym\n",
    "from nes_py.wrappers import JoypadSpace\n",
    "\n",
    "# Super Mario environment for OpenAI Gym\n",
    "import gym_super_mario_bros\n",
    "\n",
    "from tensordict import TensorDict\n",
    "from torchrl.data import TensorDictReplayBuffer, LazyMemmapStorage\n"
   ]
  },
  {
   "cell_type": "markdown",
   "metadata": {},
   "source": [
    "## Definitions of RL\n",
    "\n",
    "**Environment**: The world that an agent interacts and learns from.\n",
    "\n",
    "**Action** $a$: How our agent responds to the environment. A set of possible actions can be called action-space.\n",
    "\n",
    "**State** $s$: The current characteristic of the environment. This is a set of all possible states the environment can be in is called state-space.\n",
    "\n",
    "**Reward** $r$: Reward is the key feedback from Environment to agent. It is what drives our agent to learn and change its future action. An aggreation of rewards over multiple time steps is called **Return**.\n",
    "\n",
    "**Action value function** $Q^*(s,a)$: This models the expected return starting from a given state and the agent making a particular action. Given a starting state $s$ takes an arbitrary function $a$, and then for each future time step take the action that maximises returns. The $Q$ stands for the quality of an action in a state.\n"
   ]
  },
  {
   "cell_type": "markdown",
   "metadata": {},
   "source": [
    "## Environment\n",
    "\n",
    "### Initialisation of the environment\n",
    "\n",
    "In Mario, the environment consists of tubes, mushrooms, enemies and other components.\n",
    "\n",
    "When Mario makes an action, the environment responds with the changed (next) state, reward and other info.\n",
    "\n",
    "Here is the Super Mario environment initialised (in v0.26 we change the render_mode to 'rgb' to see the results on the screen):"
   ]
  },
  {
   "cell_type": "code",
   "execution_count": 17,
   "metadata": {},
   "outputs": [],
   "source": [
    "if gym.__version__ < '0.26':\n",
    "    env = gym_super_mario_bros.make('SuperMarioBros-1-1-v0', new_step_api=True)\n",
    "else:\n",
    "    env = gym_super_mario_bros.make('SuperMarioBros-1-1-v0', render_mode='rgb', apply_api_compatibility=True)"
   ]
  },
  {
   "cell_type": "markdown",
   "metadata": {},
   "source": [
    "Limits the action space to:\n",
    "\n",
    "0. walk right\n",
    "1. jump right\n"
   ]
  },
  {
   "cell_type": "code",
   "execution_count": 18,
   "metadata": {},
   "outputs": [
    {
     "name": "stdout",
     "output_type": "stream",
     "text": [
      "(240, 256, 3), 0.0, False, False, {'coins': 0, 'flag_get': False, 'life': 2, 'score': 0, 'stage': 1, 'status': 'small', 'time': 400, 'world': 1, 'x_pos': 40, 'y_pos': 79}\n"
     ]
    }
   ],
   "source": [
    "env = JoypadSpace(env, [['right'], ['right', 'A']])\n",
    "\n",
    "env.reset()\n",
    "next_state, reward, done, trunc, info = env.step(action=0)\n",
    "print(f\"{next_state.shape}, {reward}, {done}, {trunc}, {info}\")"
   ]
  }
 ],
 "metadata": {
  "language_info": {
   "name": "python"
  }
 },
 "nbformat": 4,
 "nbformat_minor": 2
}
